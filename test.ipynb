{
 "cells": [
  {
   "cell_type": "code",
   "execution_count": 6,
   "metadata": {},
   "outputs": [],
   "source": [
    "import numpy as np\n",
    "import torch \n",
    "import sys\n",
    "import matplotlib.pyplot as plt\n",
    "\n",
    "sys.path.insert(0, 'src/')\n",
    "\n",
    "from src.model.config import StableDiffusionConfig\n",
    "from src.model.clip import CLIPEncoder\n",
    "from src.model.diffusion import StableDiffusion\n",
    "from src.utils import forward_diffusion, convert_tensor_to_image\n",
    "from src.model.dataset import get_dataloader\n",
    "from src.model.tokenizer import Tokenizer\n",
    "from src.model.dataset import SD_Dataset\n",
    "\n",
    "from PIL import Image\n",
    "\n",
    "from torchinfo import summary\n",
    "\n",
    "from torch.nn.utils.rnn import pad_sequence\n",
    "\n",
    "from torchvision.transforms.functional import pil_to_tensor, to_pil_image\n",
    "from torchvision.transforms import Compose, Lambda, Resize, ToPILImage, ToTensor\n",
    "\n",
    "config = StableDiffusionConfig()"
   ]
  },
  {
   "cell_type": "code",
   "execution_count": 7,
   "metadata": {},
   "outputs": [],
   "source": [
    "dl = get_dataloader(config)"
   ]
  },
  {
   "cell_type": "code",
   "execution_count": 4,
   "metadata": {},
   "outputs": [],
   "source": [
    "model = StableDiffusion(config)"
   ]
  },
  {
   "cell_type": "code",
   "execution_count": 5,
   "metadata": {},
   "outputs": [
    {
     "data": {
      "text/plain": [
       "924605735"
      ]
     },
     "execution_count": 5,
     "metadata": {},
     "output_type": "execute_result"
    }
   ],
   "source": [
    "sum(p.numel() for p in model.parameters())"
   ]
  }
 ],
 "metadata": {
  "kernelspec": {
   "display_name": "Python 3",
   "language": "python",
   "name": "python3"
  },
  "language_info": {
   "codemirror_mode": {
    "name": "ipython",
    "version": 3
   },
   "file_extension": ".py",
   "mimetype": "text/x-python",
   "name": "python",
   "nbconvert_exporter": "python",
   "pygments_lexer": "ipython3",
   "version": "3.11.6"
  }
 },
 "nbformat": 4,
 "nbformat_minor": 2
}
